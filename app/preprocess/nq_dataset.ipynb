{
 "cells": [
  {
   "cell_type": "code",
   "execution_count": 2,
   "id": "5508d473",
   "metadata": {},
   "outputs": [
    {
     "name": "stdout",
     "output_type": "stream",
     "text": [
      "{'id': 'train_0', 'question': 'total number of death row inmates in the us?', 'golden_answers': array(['2,718'], dtype=object), 'data_source': 'nq', 'prompt': array([{'content': 'Answer the given question. You must conduct reasoning inside <think> and </think> first every time you get new information. After reasoning, if you find you lack some knowledge, you can call a search engine by <search> query </search> and it will return the top searched results between <information> and </information>. You can search as many times as your want. If you find no further external knowledge needed, you can directly provide the answer inside <answer> and </answer>, without detailed illustrations. For example, <answer> Beijing </answer>. Question: total number of death row inmates in the us?\\n', 'role': 'user'}],\n",
      "      dtype=object), 'ability': 'fact-reasoning', 'reward_model': {'ground_truth': {'target': array(['2,718'], dtype=object)}, 'style': 'rule'}, 'extra_info': {'index': 0, 'split': 'train'}}\n",
      "{'id': 'train_79167', 'question': 'who plays the army guy in pitch perfect 3?', 'golden_answers': array(['Troy Ian Hall', 'Matt Lanter'], dtype=object), 'data_source': 'nq', 'prompt': array([{'content': 'Answer the given question. You must conduct reasoning inside <think> and </think> first every time you get new information. After reasoning, if you find you lack some knowledge, you can call a search engine by <search> query </search> and it will return the top searched results between <information> and </information>. You can search as many times as your want. If you find no further external knowledge needed, you can directly provide the answer inside <answer> and </answer>, without detailed illustrations. For example, <answer> Beijing </answer>. Question: who plays the army guy in pitch perfect 3?\\n', 'role': 'user'}],\n",
      "      dtype=object), 'ability': 'fact-reasoning', 'reward_model': {'ground_truth': {'target': array(['Troy Ian Hall', 'Matt Lanter'], dtype=object)}, 'style': 'rule'}, 'extra_info': {'index': 79167, 'split': 'train'}}\n"
     ]
    }
   ],
   "source": [
    "import json\n",
    "import math\n",
    "import os\n",
    "import random\n",
    "import re\n",
    "import shutil\n",
    "import sys\n",
    "import time\n",
    "from collections import defaultdict\n",
    "from pathlib import Path\n",
    "from datetime import datetime\n",
    "\n",
    "from loguru import logger\n",
    "\n",
    "\n",
    "data_dir = Path('/data/comm/RUC-NLPIR/FlashRAG_datasets/nq')\n",
    "train_file = data_dir / 'train.parquet'\n",
    "test_file = data_dir / 'test.parquet'\n",
    "\n",
    "def load_data(file_path):\n",
    "    if file_path.suffix == '.jsonl':\n",
    "        with open(file_path, 'r', encoding='utf-8') as f:\n",
    "            data = [json.loads(line) for line in f]\n",
    "    elif file_path.suffix == '.parquet':\n",
    "        import pyarrow.parquet as pq\n",
    "        table = pq.read_table(file_path)\n",
    "        data = table.to_pandas().to_dict(orient='records')\n",
    "    else:\n",
    "        raise ValueError(f\"Unsupported file format: {file_path.suffix}\")\n",
    "    return data\n",
    "\n",
    "data = load_data(train_file)\n",
    "print(data[0])\n",
    "print(data[-1])\n"
   ]
  },
  {
   "cell_type": "code",
   "execution_count": 3,
   "id": "7343074c",
   "metadata": {},
   "outputs": [
    {
     "name": "stdout",
     "output_type": "stream",
     "text": [
      "type(data[0]) = <class 'dict'>\n",
      "{'id': 'train_0', 'question': 'total number of death row inmates in the us?', 'golden_answers': array(['2,718'], dtype=object), 'data_source': 'nq', 'prompt': array([{'content': 'Answer the given question. You must conduct reasoning inside <think> and </think> first every time you get new information. After reasoning, if you find you lack some knowledge, you can call a search engine by <search> query </search> and it will return the top searched results between <information> and </information>. You can search as many times as your want. If you find no further external knowledge needed, you can directly provide the answer inside <answer> and </answer>, without detailed illustrations. For example, <answer> Beijing </answer>. Question: total number of death row inmates in the us?\\n', 'role': 'user'}],\n",
      "      dtype=object), 'ability': 'fact-reasoning', 'reward_model': {'ground_truth': {'target': array(['2,718'], dtype=object)}, 'style': 'rule'}, 'extra_info': {'index': 0, 'split': 'train'}, 'metadata': None}\n",
      "\n",
      "{'id': 'train_90446', 'question': 'Vietnam national cricket team will debut at what competitions at  Kinrara Oval?', 'golden_answers': array(['2017 Southeast Asian Games'], dtype=object), 'data_source': 'hotpotqa', 'prompt': array([{'content': 'Answer the given question. You must conduct reasoning inside <think> and </think> first every time you get new information. After reasoning, if you find you lack some knowledge, you can call a search engine by <search> query </search> and it will return the top searched results between <information> and </information>. You can search as many times as your want. If you find no further external knowledge needed, you can directly provide the answer inside <answer> and </answer>, without detailed illustrations. For example, <answer> Beijing </answer>. Question: Vietnam national cricket team will debut at what competitions at  Kinrara Oval?\\n', 'role': 'user'}],\n",
      "      dtype=object), 'ability': 'fact-reasoning', 'reward_model': {'ground_truth': {'target': array(['2017 Southeast Asian Games'], dtype=object)}, 'style': 'rule'}, 'extra_info': {'index': 90446, 'split': 'train'}, 'metadata': {'type': 'bridge', 'level': 'medium', 'supporting_facts': {'title': array(['Vietnam national cricket team', 'Vietnam national cricket team',\n",
      "       'Cricket at the 2017 Southeast Asian Games'], dtype=object), 'sent_id': array([0, 1, 0])}, 'context': {'title': array(['Vietnam national cricket team', 'Pickwick Cricket Club',\n",
      "       'History of the Sri Lankan cricket team',\n",
      "       'Swaziland national cricket team', 'India A cricket team',\n",
      "       'Zimbabwe A cricket team', 'Afghanistan A cricket team',\n",
      "       'Cricket at the 2017 Southeast Asian Games', 'Ishitaa Gidwani',\n",
      "       'Mozambique national cricket team'], dtype=object), 'sentences': array([array(['The Vietnam national cricket team represents Vietnam in international cricket.',\n",
      "              ' It will debut in the cricket tournament at the 2017 Southeast Asian Games in Kuala Lumpur, Malaysia.'],\n",
      "             dtype=object)                                                                                             ,\n",
      "       array(['Pickwick Cricket Club is a Barbados cricket club.',\n",
      "              ' The club was founded on 23 November 1882, the second oldest cricket club in Barbados after Wanderers Cricket Club.',\n",
      "              \" The club's home from its foundation until 2005 was Kensington Oval in Bridgetown, the main venue for matches involving the Barbados national cricket team and the Barbados venue for Test cricket involving the West Indies cricket team.\",\n",
      "              ' The ground was built on land on Kensington Plantation leased by the club for a penny per annum.',\n",
      "              ' Pickwick club developed Kensington Oval into the finest ground in Barbados and it soon replaced the Wanderers Ground and the Garrison Savanna as the venue for inter-colonial matches.'],\n",
      "             dtype=object)                                                                                                                                                                                                                                 ,\n",
      "       array(['The History of the Sri Lanka national cricket team began with the formation of the Colombo Cricket Club in 1832.',\n",
      "              ' By the 1880s a national team, the Ceylon national cricket team, was formed which began playing first-class cricket by the 1920s.',\n",
      "              ' The Ceylon national cricket team had achieved associate member status of the International Cricket Council in 1965.',\n",
      "              ' Renamed Sri Lanka in 1972, the national team first competed in top level international cricket in 1975, when they played against West Indies during 1975 Cricket World Cup; West Indies won the match by 9 wickets at the Old Trafford, Manchester, England.'],\n",
      "             dtype=object)                                                                                                                                                                                                                                                     ,\n",
      "       array(['The Swaziland national cricket team represents Swaziland, a country in Southern Africa, in the sport of cricket.',\n",
      "              ' The Swaziland national cricket team, which is administrated by the Swaziland Cricket Association, is an affiliate member of the International Cricket Council (ICC).',\n",
      "              ' The team, along with Cameroon, the Falkland Islands and Peru, would be promoted to affiliate status in 2007 by the ICC.',\n",
      "              ' Swaziland is also a member of the African Cricket Association.',\n",
      "              ' The Swaziland national cricket team would compete in the World Cricket League Africa Region and the ICC Africa Twenty20 Championship.'],\n",
      "             dtype=object)                                                                                                                                                            ,\n",
      "       array(['The India A cricket team is a national cricket team representing India.',\n",
      "              \" It is the 'second-tier' of Indian international cricket, below the full India national cricket team.\",\n",
      "              ' The team is currently captained by Cheteshwar Pujara in first-class cricket, Manish Pandey in List A cricket and Mandeep Singh in Twenty20 cricket.',\n",
      "              ' The team is coached by former India captain Rahul Dravid.'],\n",
      "             dtype=object)                                                                                                                                           ,\n",
      "       array(['The Zimbabwe A cricket team is a national cricket team representing Zimbabwe.',\n",
      "              \" It is the 'second-tier' of international Zimbabwean cricket, below the full Zimbabwe national cricket team.\",\n",
      "              ' Matches played by Zimbabwe A are not considered to be Test matches or One Day Internationals, instead receiving first-class and List A classification respectively.',\n",
      "              ' Zimbabwe A played their first match in January 1994, a four-day first-class contest against the touring South Africa A cricket team.'],\n",
      "             dtype=object)                                                                                                                                                           ,\n",
      "       array(['The Afghanistan A cricket team is a national cricket team representing Afghanistan.',\n",
      "              \" It is the 'second-tier' of international Afghan cricket, below the full Afghanistan national cricket team.\",\n",
      "              ' Matches played by Afghanistan A are not considered to be One Day Internationals, instead receiving List A classification.',\n",
      "              ' Their first match was against the Tajikistan national cricket team in December 2013.',\n",
      "              ' In 2017, they played a five-match series against the Zimbabwe A cricket team in Zimbabwe.'],\n",
      "             dtype=object)                                                                                                                 ,\n",
      "       array(['The cricket competitions at the 2017 Southeast Asian Games in Kuala Lumpur will take place at Kinrara Oval in Selangor.'],\n",
      "             dtype=object)                                                                                                               ,\n",
      "       array([\"Ishitaa Anoop Gidwani (born May 9, 1992 in Hong Kong) is Hong Kong cricketer who plays for Hong Kong women's national cricket team as a captain.\",\n",
      "              \" She made her debut for Hong Kong women's national cricket team against Pakistan women's national cricket team in 2006.\"],\n",
      "             dtype=object)                                                                                                                                       ,\n",
      "       array(['The Mozambique national cricket team is the team that represents the country of Mozambique in international cricket matches.',\n",
      "              ' The Mozambique national cricket team, which is administered by the Mozambican Cricket Association, is an affiliate member of the International Cricket Council (ICC).',\n",
      "              ' Mozambique is also a member of the African Cricket Association.',\n",
      "              ' The Mozambique national cricket team has competed in the World Cricket League Africa Region and the ICC Africa Twenty20 Championship.'],\n",
      "             dtype=object)                                                                                                                                                             ],\n",
      "      dtype=object)}}}\n"
     ]
    }
   ],
   "source": [
    "data_dir = Path('/data/comm/RUC-NLPIR/FlashRAG_datasets/nq_hotpotqa_train')\n",
    "train_file = data_dir / 'train.parquet'\n",
    "test_file = data_dir / 'test.parquet'\n",
    "data = load_data(train_file)\n",
    "print(f'{type(data[0]) = }')\n",
    "print(data[0])\n",
    "print()\n",
    "print(data[-1])"
   ]
  },
  {
   "cell_type": "code",
   "execution_count": 13,
   "id": "a2eded9f",
   "metadata": {},
   "outputs": [
    {
     "name": "stdout",
     "output_type": "stream",
     "text": [
      "2\n",
      "10\n",
      "['The Vietnam national cricket team represents Vietnam in international cricket.'\n",
      " ' It will debut in the cricket tournament at the 2017 Southeast Asian Games in Kuala Lumpur, Malaysia.']\n",
      "['The Mozambique national cricket team is the team that represents the country of Mozambique in international cricket matches.'\n",
      " ' The Mozambique national cricket team, which is administered by the Mozambican Cricket Association, is an affiliate member of the International Cricket Council (ICC).'\n",
      " ' Mozambique is also a member of the African Cricket Association.'\n",
      " ' The Mozambique national cricket team has competed in the World Cricket League Africa Region and the ICC Africa Twenty20 Championship.']\n"
     ]
    }
   ],
   "source": [
    "print(len(data[-1]['metadata']['supporting_facts']))\n",
    "print(len(data[-1]['metadata']['context']['sentences']))\n",
    "print(data[-1]['metadata']['context']['sentences'][0])\n",
    "print(data[-1]['metadata']['context']['sentences'][-1])"
   ]
  }
 ],
 "metadata": {
  "kernelspec": {
   "display_name": "searchr1",
   "language": "python",
   "name": "python3"
  },
  "language_info": {
   "codemirror_mode": {
    "name": "ipython",
    "version": 3
   },
   "file_extension": ".py",
   "mimetype": "text/x-python",
   "name": "python",
   "nbconvert_exporter": "python",
   "pygments_lexer": "ipython3",
   "version": "3.9.21"
  }
 },
 "nbformat": 4,
 "nbformat_minor": 5
}
